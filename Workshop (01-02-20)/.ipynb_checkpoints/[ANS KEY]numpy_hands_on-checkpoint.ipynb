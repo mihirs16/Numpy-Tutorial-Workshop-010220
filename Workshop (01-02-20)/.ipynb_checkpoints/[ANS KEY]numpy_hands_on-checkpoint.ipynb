{
  "nbformat": 4,
  "nbformat_minor": 0,
  "metadata": {
    "colab": {
      "name": "numpy_tut.ipynb",
      "provenance": [],
      "collapsed_sections": []
    },
    "kernelspec": {
      "name": "python3",
      "display_name": "Python 3"
    }
  },
  "cells": [
    {
      "cell_type": "markdown",
      "metadata": {
        "id": "CsJXTWqO6_MG",
        "colab_type": "text"
      },
      "source": [
        "![Numpy Logo](https://upload.wikimedia.org/wikipedia/commons/thumb/1/1a/NumPy_logo.svg/1200px-NumPy_logo.svg.png)"
      ]
    },
    {
      "cell_type": "markdown",
      "metadata": {
        "id": "sMM49AjrzUqP",
        "colab_type": "text"
      },
      "source": [
        "#Why Numpy?\n",
        "https://webcourses.ucf.edu/courses/1249560/pages/python-lists-vs-numpy-arrays-what-is-the-difference?source=post_page-----f1b582a413f1----------------------"
      ]
    },
    {
      "cell_type": "markdown",
      "metadata": {
        "id": "QEGhjhQvKKkl",
        "colab_type": "text"
      },
      "source": [
        "# Installing Numpy"
      ]
    },
    {
      "cell_type": "code",
      "metadata": {
        "id": "DCndoV-4JyPg",
        "colab_type": "code",
        "outputId": "c3b12f7f-d977-444a-9028-6f6c8794c198",
        "colab": {
          "base_uri": "https://localhost:8080/",
          "height": 35
        }
      },
      "source": [
        "!pip install numpy"
      ],
      "execution_count": 1,
      "outputs": [
        {
          "output_type": "stream",
          "text": [
            "Requirement already satisfied: numpy in /usr/local/lib/python3.6/dist-packages (1.17.5)\n"
          ],
          "name": "stdout"
        }
      ]
    },
    {
      "cell_type": "code",
      "metadata": {
        "id": "Ud-4prHPKZPB",
        "colab_type": "code",
        "outputId": "8af4a552-0b19-4e4c-b306-617667a0c7bf",
        "colab": {
          "base_uri": "https://localhost:8080/",
          "height": 54
        }
      },
      "source": [
        "import numpy as np\n",
        "import matplotlib\n",
        "import matplotlib.pyplot\n",
        "\n",
        "print (np.__version__)\n",
        "print (matplotlib.__version__)"
      ],
      "execution_count": 32,
      "outputs": [
        {
          "output_type": "stream",
          "text": [
            "1.17.5\n",
            "3.1.2\n"
          ],
          "name": "stdout"
        }
      ]
    },
    {
      "cell_type": "markdown",
      "metadata": {
        "id": "C7gA8pv8LJTj",
        "colab_type": "text"
      },
      "source": [
        "# Numpy Arrays"
      ]
    },
    {
      "cell_type": "markdown",
      "metadata": {
        "id": "nUKMLMQUNRzX",
        "colab_type": "text"
      },
      "source": [
        "Array Initialization"
      ]
    },
    {
      "cell_type": "code",
      "metadata": {
        "id": "t7daDvhsKvpx",
        "colab_type": "code",
        "outputId": "215650d6-ea50-4e8f-b2ae-ee559a2d27d3",
        "colab": {
          "base_uri": "https://localhost:8080/",
          "height": 35
        }
      },
      "source": [
        "#List - [1, 6, 0, 9, 2]\n",
        "arr = np.array([1, 6, 0, 9, 2])\n",
        "print (arr)"
      ],
      "execution_count": 3,
      "outputs": [
        {
          "output_type": "stream",
          "text": [
            "[1 6 0 9 2]\n"
          ],
          "name": "stdout"
        }
      ]
    },
    {
      "cell_type": "markdown",
      "metadata": {
        "id": "4Pff317INzA5",
        "colab_type": "text"
      },
      "source": [
        "Arithmetical Operations"
      ]
    },
    {
      "cell_type": "code",
      "metadata": {
        "id": "3jb_E-doNyQU",
        "colab_type": "code",
        "outputId": "b79653b7-3cc0-4c92-c436-2617a8721d2e",
        "colab": {
          "base_uri": "https://localhost:8080/",
          "height": 90
        }
      },
      "source": [
        "#Addition\n",
        "print (arr + 10)\n",
        "\n",
        "#Multiplication\n",
        "print (arr * 10)\n",
        "\n",
        "#Subtraction\n",
        "print (arr - 10)\n",
        "\n",
        "#Division\n",
        "print (arr / 10)"
      ],
      "execution_count": 4,
      "outputs": [
        {
          "output_type": "stream",
          "text": [
            "[11 16 10 19 12]\n",
            "[10 60  0 90 20]\n",
            "[ -9  -4 -10  -1  -8]\n",
            "[0.1 0.6 0.  0.9 0.2]\n"
          ],
          "name": "stdout"
        }
      ]
    },
    {
      "cell_type": "markdown",
      "metadata": {
        "id": "poLl5awBOzZA",
        "colab_type": "text"
      },
      "source": [
        "Array Attributes"
      ]
    },
    {
      "cell_type": "code",
      "metadata": {
        "id": "t6hogmVIO2Y7",
        "colab_type": "code",
        "outputId": "99a57dca-e519-474c-bb6c-788fde3c9a2f",
        "colab": {
          "base_uri": "https://localhost:8080/",
          "height": 54
        }
      },
      "source": [
        "#Shape\n",
        "print (arr.shape)\n",
        "\n",
        "#Data Type\n",
        "print (arr.dtype)"
      ],
      "execution_count": 5,
      "outputs": [
        {
          "output_type": "stream",
          "text": [
            "(5,)\n",
            "int64\n"
          ],
          "name": "stdout"
        }
      ]
    },
    {
      "cell_type": "markdown",
      "metadata": {
        "id": "FR4vCwPlPd3s",
        "colab_type": "text"
      },
      "source": [
        "Multi-dimensional Arrays"
      ]
    },
    {
      "cell_type": "code",
      "metadata": {
        "id": "xWppnOQ6PJ9A",
        "colab_type": "code",
        "outputId": "14c8bf6c-0656-41d6-b6f3-2e3aed335314",
        "colab": {
          "base_uri": "https://localhost:8080/",
          "height": 90
        }
      },
      "source": [
        "#Two-Dimensional\n",
        "arr_2d = np.array([[1, 2, 3], [4, 5, 6], [7, 8, 9]])\n",
        "\n",
        "print (arr_2d)\n",
        "print (arr_2d.shape)"
      ],
      "execution_count": 6,
      "outputs": [
        {
          "output_type": "stream",
          "text": [
            "[[1 2 3]\n",
            " [4 5 6]\n",
            " [7 8 9]]\n",
            "(3, 3)\n"
          ],
          "name": "stdout"
        }
      ]
    },
    {
      "cell_type": "code",
      "metadata": {
        "id": "j1b62d2sPw5Z",
        "colab_type": "code",
        "outputId": "20efdeb5-22ee-482c-9cdc-ddfe42e0f628",
        "colab": {
          "base_uri": "https://localhost:8080/",
          "height": 126
        }
      },
      "source": [
        "#Three-Dimensional\n",
        "arr_3d = np.array([[[1, 2, 3], [4, 5, 6]], [[7, 8, 9], [10, 11, 12]]])\n",
        "\n",
        "print (arr_3d)\n",
        "print (arr_3d.shape)"
      ],
      "execution_count": 7,
      "outputs": [
        {
          "output_type": "stream",
          "text": [
            "[[[ 1  2  3]\n",
            "  [ 4  5  6]]\n",
            "\n",
            " [[ 7  8  9]\n",
            "  [10 11 12]]]\n",
            "(2, 2, 3)\n"
          ],
          "name": "stdout"
        }
      ]
    },
    {
      "cell_type": "markdown",
      "metadata": {
        "id": "LZUsEpY5Q2U6",
        "colab_type": "text"
      },
      "source": [
        "# Ones and Zeros"
      ]
    },
    {
      "cell_type": "code",
      "metadata": {
        "id": "cK4Mk7o2QWEu",
        "colab_type": "code",
        "outputId": "29e752cb-8426-4b27-a0bc-9d35442a0930",
        "colab": {
          "base_uri": "https://localhost:8080/",
          "height": 108
        }
      },
      "source": [
        "#Initializing Zeros\n",
        "zer = np.zeros((3, 3))\n",
        "\n",
        "print (zer)\n",
        "print (zer.shape)\n",
        "print (zer.dtype)"
      ],
      "execution_count": 8,
      "outputs": [
        {
          "output_type": "stream",
          "text": [
            "[[0. 0. 0.]\n",
            " [0. 0. 0.]\n",
            " [0. 0. 0.]]\n",
            "(3, 3)\n",
            "float64\n"
          ],
          "name": "stdout"
        }
      ]
    },
    {
      "cell_type": "code",
      "metadata": {
        "id": "bpZh6icmR7aW",
        "colab_type": "code",
        "outputId": "036744f3-34d1-472a-9f01-b9a8512d2a32",
        "colab": {
          "base_uri": "https://localhost:8080/",
          "height": 54
        }
      },
      "source": [
        "zer = np.zeros((3, 3), dtype=int)\n",
        "\n",
        "print (zer.shape)\n",
        "print (zer.dtype)"
      ],
      "execution_count": 9,
      "outputs": [
        {
          "output_type": "stream",
          "text": [
            "(3, 3)\n",
            "int64\n"
          ],
          "name": "stdout"
        }
      ]
    },
    {
      "cell_type": "code",
      "metadata": {
        "id": "TOHQV1cDSED9",
        "colab_type": "code",
        "outputId": "7aff2a41-cb8b-4305-d5eb-924c872c768b",
        "colab": {
          "base_uri": "https://localhost:8080/",
          "height": 108
        }
      },
      "source": [
        "zer = np.ones((3, 3), dtype=int)\n",
        "\n",
        "print (zer)\n",
        "print (zer.shape)\n",
        "print (zer.dtype)"
      ],
      "execution_count": 10,
      "outputs": [
        {
          "output_type": "stream",
          "text": [
            "[[1 1 1]\n",
            " [1 1 1]\n",
            " [1 1 1]]\n",
            "(3, 3)\n",
            "int64\n"
          ],
          "name": "stdout"
        }
      ]
    },
    {
      "cell_type": "markdown",
      "metadata": {
        "id": "leP0ds1JSZaF",
        "colab_type": "text"
      },
      "source": [
        "# Reshaping"
      ]
    },
    {
      "cell_type": "code",
      "metadata": {
        "id": "lasXBlS8SYYG",
        "colab_type": "code",
        "outputId": "80496a8d-2407-481f-c197-46a29d9ad531",
        "colab": {
          "base_uri": "https://localhost:8080/",
          "height": 72
        }
      },
      "source": [
        "#Before\n",
        "arr = np.array([(1, 2, 3), (4, 5, 6)])\n",
        "\n",
        "print(arr)\n",
        "print(arr.shape)"
      ],
      "execution_count": 11,
      "outputs": [
        {
          "output_type": "stream",
          "text": [
            "[[1 2 3]\n",
            " [4 5 6]]\n",
            "(2, 3)\n"
          ],
          "name": "stdout"
        }
      ]
    },
    {
      "cell_type": "code",
      "metadata": {
        "id": "fF8PuqwqTPCG",
        "colab_type": "code",
        "outputId": "a080bb43-03e4-4604-d2eb-e05cb1534d3f",
        "colab": {
          "base_uri": "https://localhost:8080/",
          "height": 90
        }
      },
      "source": [
        "#Reshape\n",
        "arr_re = arr.reshape((3, 2))\n",
        "\n",
        "print(arr_re)\n",
        "print(arr_re.shape)"
      ],
      "execution_count": 12,
      "outputs": [
        {
          "output_type": "stream",
          "text": [
            "[[1 2]\n",
            " [3 4]\n",
            " [5 6]]\n",
            "(3, 2)\n"
          ],
          "name": "stdout"
        }
      ]
    },
    {
      "cell_type": "code",
      "metadata": {
        "id": "MkmEftGiTeRx",
        "colab_type": "code",
        "outputId": "a324e789-deed-4204-cce6-d7e3df57483a",
        "colab": {
          "base_uri": "https://localhost:8080/",
          "height": 35
        }
      },
      "source": [
        "#Flatten\n",
        "arr_flat_ = arr.flatten()\n",
        "\n",
        "print (arr_flat_)"
      ],
      "execution_count": 30,
      "outputs": [
        {
          "output_type": "stream",
          "text": [
            "[ 0  1  2  3  4  5  6  7  8  9 10]\n"
          ],
          "name": "stdout"
        }
      ]
    },
    {
      "cell_type": "markdown",
      "metadata": {
        "id": "sPdK0WkwTx2f",
        "colab_type": "text"
      },
      "source": [
        "# Horizontal and Vertical Stacking"
      ]
    },
    {
      "cell_type": "code",
      "metadata": {
        "id": "2kg8KZdQTj7F",
        "colab_type": "code",
        "colab": {}
      },
      "source": [
        "first = np.array([1,2,3])\n",
        "second = np.array([4,5,6])"
      ],
      "execution_count": 0,
      "outputs": []
    },
    {
      "cell_type": "code",
      "metadata": {
        "id": "3MPu1AsoeuYl",
        "colab_type": "code",
        "outputId": "5dca0b0a-ca5d-4db8-9a16-53c446bc254d",
        "colab": {
          "base_uri": "https://localhost:8080/",
          "height": 35
        }
      },
      "source": [
        "# Horitzontal Stack\n",
        "print (np.hstack((first, second)))"
      ],
      "execution_count": 15,
      "outputs": [
        {
          "output_type": "stream",
          "text": [
            "[1 2 3 4 5 6]\n"
          ],
          "name": "stdout"
        }
      ]
    },
    {
      "cell_type": "code",
      "metadata": {
        "id": "Egk5PL9jed1J",
        "colab_type": "code",
        "outputId": "0ec21da1-b590-4a33-cbe4-94e812ce7f9d",
        "colab": {
          "base_uri": "https://localhost:8080/",
          "height": 54
        }
      },
      "source": [
        "# Vertical Stack\n",
        "print (np.vstack((first, second)))"
      ],
      "execution_count": 16,
      "outputs": [
        {
          "output_type": "stream",
          "text": [
            "[[1 2 3]\n",
            " [4 5 6]]\n"
          ],
          "name": "stdout"
        }
      ]
    },
    {
      "cell_type": "markdown",
      "metadata": {
        "id": "zXeqq-rZfTED",
        "colab_type": "text"
      },
      "source": [
        "# Generating Data"
      ]
    },
    {
      "cell_type": "markdown",
      "metadata": {
        "id": "tHg499_qgsZ2",
        "colab_type": "text"
      },
      "source": [
        "Arange"
      ]
    },
    {
      "cell_type": "code",
      "metadata": {
        "id": "UdHwDb2vexnG",
        "colab_type": "code",
        "outputId": "8fb9ff9e-4311-41e0-b5e0-30a19cf20a0b",
        "colab": {
          "base_uri": "https://localhost:8080/",
          "height": 54
        }
      },
      "source": [
        "print (np.arange(1, 10))\n",
        "\n",
        "print (np.arange(1, 10, 2))"
      ],
      "execution_count": 17,
      "outputs": [
        {
          "output_type": "stream",
          "text": [
            "[1 2 3 4 5 6 7 8 9]\n",
            "[1 3 5 7 9]\n"
          ],
          "name": "stdout"
        }
      ]
    },
    {
      "cell_type": "markdown",
      "metadata": {
        "id": "dIaWmzregu0A",
        "colab_type": "text"
      },
      "source": [
        "Linspace"
      ]
    },
    {
      "cell_type": "code",
      "metadata": {
        "id": "raBqIvU6gLKn",
        "colab_type": "code",
        "outputId": "bc95482a-43fa-41e9-b51d-00b2ee9ffb45",
        "colab": {
          "base_uri": "https://localhost:8080/",
          "height": 35
        }
      },
      "source": [
        "print (np.linspace(1, 10, 5))"
      ],
      "execution_count": 18,
      "outputs": [
        {
          "output_type": "stream",
          "text": [
            "[ 1.    3.25  5.5   7.75 10.  ]\n"
          ],
          "name": "stdout"
        }
      ]
    },
    {
      "cell_type": "markdown",
      "metadata": {
        "id": "9t-yr9QFh1Do",
        "colab_type": "text"
      },
      "source": [
        "Logspace"
      ]
    },
    {
      "cell_type": "code",
      "metadata": {
        "id": "vzGciv_2g7Y-",
        "colab_type": "code",
        "outputId": "055eec91-439a-4da9-dd71-b4c99e4fc3d2",
        "colab": {
          "base_uri": "https://localhost:8080/",
          "height": 54
        }
      },
      "source": [
        "print (np.logspace(1, 10, 5))"
      ],
      "execution_count": 19,
      "outputs": [
        {
          "output_type": "stream",
          "text": [
            "[1.00000000e+01 1.77827941e+03 3.16227766e+05 5.62341325e+07\n",
            " 1.00000000e+10]\n"
          ],
          "name": "stdout"
        }
      ]
    },
    {
      "cell_type": "markdown",
      "metadata": {
        "id": "b2N7nH4UiDq_",
        "colab_type": "text"
      },
      "source": [
        "Random Numbers"
      ]
    },
    {
      "cell_type": "code",
      "metadata": {
        "id": "HH7vn2dQhJln",
        "colab_type": "code",
        "outputId": "aeae24eb-5faa-47ba-a52d-9e790650ace7",
        "colab": {
          "base_uri": "https://localhost:8080/",
          "height": 54
        }
      },
      "source": [
        "print (np.random.normal(5, 0.5, 10))"
      ],
      "execution_count": 20,
      "outputs": [
        {
          "output_type": "stream",
          "text": [
            "[5.19783947 5.19810312 4.89174423 5.27046979 4.85923082 4.82354455\n",
            " 4.9952682  5.24390606 5.72429108 4.2670679 ]\n"
          ],
          "name": "stdout"
        }
      ]
    },
    {
      "cell_type": "markdown",
      "metadata": {
        "id": "ACKF6h9N72H6",
        "colab_type": "text"
      },
      "source": [
        "![alt text](https://upload.wikimedia.org/wikipedia/commons/thumb/a/a9/Empirical_Rule.PNG/350px-Empirical_Rule.PNG)"
      ]
    },
    {
      "cell_type": "markdown",
      "metadata": {
        "id": "NM4zqfwyirSZ",
        "colab_type": "text"
      },
      "source": [
        "# Indexing"
      ]
    },
    {
      "cell_type": "code",
      "metadata": {
        "id": "8RSHEgEqiWRX",
        "colab_type": "code",
        "outputId": "1b6fb2eb-e13f-4f0b-84ed-3069b9cb0d39",
        "colab": {
          "base_uri": "https://localhost:8080/",
          "height": 90
        }
      },
      "source": [
        "arr = np.array ([0, 1, 2, 3, 4, 5, 6, 7, 8, 9, 10])\n",
        "\n",
        "print (arr[0])\n",
        "\n",
        "print (arr[2:5])\n",
        "\n",
        "print (arr[:5])\n",
        "\n",
        "print (arr[5:])"
      ],
      "execution_count": 21,
      "outputs": [
        {
          "output_type": "stream",
          "text": [
            "0\n",
            "[2 3 4]\n",
            "[0 1 2 3 4]\n",
            "[ 5  6  7  8  9 10]\n"
          ],
          "name": "stdout"
        }
      ]
    },
    {
      "cell_type": "code",
      "metadata": {
        "id": "gxCAjl3xjevE",
        "colab_type": "code",
        "outputId": "4b4596e3-fc5f-4316-cf9f-3c6df927f483",
        "colab": {
          "base_uri": "https://localhost:8080/",
          "height": 90
        }
      },
      "source": [
        "arr_2d = np.array([(0, 1, 2), \n",
        "                   (3, 4, 5)])\n",
        "\n",
        "print (arr_2d)\n",
        "\n",
        "print (arr_2d[1])\n",
        "\n",
        "print (arr_2d[:2, 1])"
      ],
      "execution_count": 22,
      "outputs": [
        {
          "output_type": "stream",
          "text": [
            "[[0 1 2]\n",
            " [3 4 5]]\n",
            "[3 4 5]\n",
            "[1 4]\n"
          ],
          "name": "stdout"
        }
      ]
    },
    {
      "cell_type": "markdown",
      "metadata": {
        "id": "OcV8PvVEmxwO",
        "colab_type": "text"
      },
      "source": [
        "# Basic Statistical Functions"
      ]
    },
    {
      "cell_type": "code",
      "metadata": {
        "id": "MOBiWYG4j3Z4",
        "colab_type": "code",
        "outputId": "5150a87b-5495-47d7-da69-3305c2d8c50f",
        "colab": {
          "base_uri": "https://localhost:8080/",
          "height": 54
        }
      },
      "source": [
        "normal_array = np.random.normal(5, 0.5, 10)\n",
        "\n",
        "print (normal_array)"
      ],
      "execution_count": 23,
      "outputs": [
        {
          "output_type": "stream",
          "text": [
            "[5.39522081 4.24378144 5.09331284 5.10723983 5.68104555 4.74492819\n",
            " 5.06985298 4.29434351 5.2905326  5.06362356]\n"
          ],
          "name": "stdout"
        }
      ]
    },
    {
      "cell_type": "code",
      "metadata": {
        "id": "xVYX3MVRnfDR",
        "colab_type": "code",
        "outputId": "d8cedc2d-586b-49fa-c05d-5f44acf1c680",
        "colab": {
          "base_uri": "https://localhost:8080/",
          "height": 108
        }
      },
      "source": [
        "### Min \n",
        "print (np.min(normal_array))\n",
        "\n",
        "### Max \n",
        "print (np.max(normal_array))\n",
        "\n",
        "### Mean \n",
        "print (np.mean(normal_array))\n",
        "\n",
        "### Median\n",
        "print (np.median(normal_array))\n",
        "\n",
        "### Standard Deviation\n",
        "print (np.std(normal_array))"
      ],
      "execution_count": 24,
      "outputs": [
        {
          "output_type": "stream",
          "text": [
            "4.2437814448148385\n",
            "5.681045545229229\n",
            "4.998388131625137\n",
            "5.081582909481604\n",
            "0.4322522423040592\n"
          ],
          "name": "stdout"
        }
      ]
    },
    {
      "cell_type": "markdown",
      "metadata": {
        "id": "snw94UtzoAc5",
        "colab_type": "text"
      },
      "source": [
        "# Product of Arrays"
      ]
    },
    {
      "cell_type": "code",
      "metadata": {
        "id": "bUSyEc-Gn6ie",
        "colab_type": "code",
        "colab": {}
      },
      "source": [
        "first = np.array([1, 2])\n",
        "second = np.array([4, 5])"
      ],
      "execution_count": 0,
      "outputs": []
    },
    {
      "cell_type": "code",
      "metadata": {
        "id": "7MMD_LvqoWXY",
        "colab_type": "code",
        "outputId": "33b6bb23-5c4c-49da-8f50-d5b4f1630ec2",
        "colab": {
          "base_uri": "https://localhost:8080/",
          "height": 35
        }
      },
      "source": [
        "# Element-by-Element\n",
        "print (first * second)"
      ],
      "execution_count": 26,
      "outputs": [
        {
          "output_type": "stream",
          "text": [
            "[ 4 10]\n"
          ],
          "name": "stdout"
        }
      ]
    },
    {
      "cell_type": "code",
      "metadata": {
        "id": "j9p7fg32oYsN",
        "colab_type": "code",
        "outputId": "84391206-cbfc-4ed3-cd92-3859398a0dd7",
        "colab": {
          "base_uri": "https://localhost:8080/",
          "height": 35
        }
      },
      "source": [
        "# Dot Product\n",
        "print (np.dot(first, second))"
      ],
      "execution_count": 27,
      "outputs": [
        {
          "output_type": "stream",
          "text": [
            "14\n"
          ],
          "name": "stdout"
        }
      ]
    },
    {
      "cell_type": "code",
      "metadata": {
        "id": "C72FIyz6o1zK",
        "colab_type": "code",
        "outputId": "7fd83505-7452-4fd8-e8ea-0cb38d23f489",
        "colab": {
          "base_uri": "https://localhost:8080/",
          "height": 54
        }
      },
      "source": [
        "first = [[1,2],[3,4]] \n",
        "second = [[5,6],[7,8]] \n",
        "\n",
        "# Matrix Multiplication\n",
        "print (np.matmul(first, second))"
      ],
      "execution_count": 28,
      "outputs": [
        {
          "output_type": "stream",
          "text": [
            "[[19 22]\n",
            " [43 50]]\n"
          ],
          "name": "stdout"
        }
      ]
    },
    {
      "cell_type": "markdown",
      "metadata": {
        "id": "eJBXGZqIqVN2",
        "colab_type": "text"
      },
      "source": [
        "# Determinant"
      ]
    },
    {
      "cell_type": "code",
      "metadata": {
        "id": "UE5ve7qVqTwe",
        "colab_type": "code",
        "outputId": "bb3f7c3d-b57d-4ecf-a015-2c6ed08443d1",
        "colab": {
          "base_uri": "https://localhost:8080/",
          "height": 35
        }
      },
      "source": [
        "print (np.linalg.det(second))"
      ],
      "execution_count": 29,
      "outputs": [
        {
          "output_type": "stream",
          "text": [
            "-2.000000000000005\n"
          ],
          "name": "stdout"
        }
      ]
    },
    {
      "cell_type": "markdown",
      "metadata": {
        "id": "4tCLGLgBzbJX",
        "colab_type": "text"
      },
      "source": [
        "#Futher Numpy Documentation"
      ]
    },
    {
      "cell_type": "markdown",
      "metadata": {
        "id": "_8qLpHjJzjOd",
        "colab_type": "text"
      },
      "source": [
        "https://numpy.org/"
      ]
    }
  ]
}