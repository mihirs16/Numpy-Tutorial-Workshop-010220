{
 "cells": [
  {
   "cell_type": "markdown",
   "metadata": {
    "colab_type": "text",
    "id": "CsJXTWqO6_MG"
   },
   "source": [
    "![Numpy Logo](https://upload.wikimedia.org/wikipedia/commons/thumb/1/1a/NumPy_logo.svg/1200px-NumPy_logo.svg.png)"
   ]
  },
  {
   "cell_type": "markdown",
   "metadata": {
    "colab_type": "text",
    "id": "sMM49AjrzUqP"
   },
   "source": [
    "# Why Numpy?\n",
    "https://webcourses.ucf.edu/courses/1249560/pages/python-lists-vs-numpy-arrays-what-is-the-difference?source=post_page-----f1b582a413f1----------------------"
   ]
  },
  {
   "cell_type": "markdown",
   "metadata": {
    "colab_type": "text",
    "id": "QEGhjhQvKKkl"
   },
   "source": [
    "# Installing Numpy"
   ]
  },
  {
   "cell_type": "code",
   "execution_count": 1,
   "metadata": {
    "colab": {
     "base_uri": "https://localhost:8080/",
     "height": 35
    },
    "colab_type": "code",
    "id": "DCndoV-4JyPg",
    "outputId": "c3b12f7f-d977-444a-9028-6f6c8794c198"
   },
   "outputs": [
    {
     "name": "stdout",
     "output_type": "stream",
     "text": [
      "Collecting numpy\n",
      "  Using cached numpy-1.18.1-cp37-cp37m-win_amd64.whl (12.8 MB)\n",
      "Installing collected packages: numpy\n",
      "Successfully installed numpy-1.18.1\n"
     ]
    }
   ],
   "source": [
    "#pip\n",
    "!pip install numpy"
   ]
  },
  {
   "cell_type": "code",
   "execution_count": 2,
   "metadata": {
    "colab": {
     "base_uri": "https://localhost:8080/",
     "height": 54
    },
    "colab_type": "code",
    "id": "Ud-4prHPKZPB",
    "outputId": "8af4a552-0b19-4e4c-b306-617667a0c7bf"
   },
   "outputs": [
    {
     "name": "stdout",
     "output_type": "stream",
     "text": [
      "1.18.1\n"
     ]
    }
   ],
   "source": [
    "#importing numpy\n",
    "import numpy as np\n",
    "\n",
    "print (np.__version__)"
   ]
  },
  {
   "cell_type": "markdown",
   "metadata": {
    "colab_type": "text",
    "id": "C7gA8pv8LJTj"
   },
   "source": [
    "# Numpy Arrays"
   ]
  },
  {
   "cell_type": "markdown",
   "metadata": {
    "colab_type": "text",
    "id": "nUKMLMQUNRzX"
   },
   "source": [
    "Array Initialization"
   ]
  },
  {
   "cell_type": "code",
   "execution_count": 4,
   "metadata": {
    "colab": {
     "base_uri": "https://localhost:8080/",
     "height": 35
    },
    "colab_type": "code",
    "id": "t7daDvhsKvpx",
    "outputId": "215650d6-ea50-4e8f-b2ae-ee559a2d27d3"
   },
   "outputs": [
    {
     "name": "stdout",
     "output_type": "stream",
     "text": [
      "[1 2 3 4 5]\n"
     ]
    }
   ],
   "source": [
    "#List - [1, 6, 0, 9, 2]\n",
    "lst = [1, 2, 3, 4, 5]\n",
    "\n",
    "n = np.array(lst)\n",
    "print(n)"
   ]
  },
  {
   "cell_type": "markdown",
   "metadata": {
    "colab_type": "text",
    "id": "4Pff317INzA5"
   },
   "source": [
    "Arithmetical Operations"
   ]
  },
  {
   "cell_type": "code",
   "execution_count": 5,
   "metadata": {
    "colab": {
     "base_uri": "https://localhost:8080/",
     "height": 90
    },
    "colab_type": "code",
    "id": "3jb_E-doNyQU",
    "outputId": "b79653b7-3cc0-4c92-c436-2617a8721d2e"
   },
   "outputs": [
    {
     "name": "stdout",
     "output_type": "stream",
     "text": [
      "[3 4 5 6 7]\n",
      "[ 2  4  6  8 10]\n",
      "[-1  0  1  2  3]\n",
      "[0.5 1.  1.5 2.  2.5]\n"
     ]
    }
   ],
   "source": [
    "#Addition\n",
    "print(n + 2)\n",
    "\n",
    "#Multiplication\n",
    "print(n * 2)\n",
    "\n",
    "#Subtraction\n",
    "print(n - 2)\n",
    "\n",
    "#Division\n",
    "print(n / 2)"
   ]
  },
  {
   "cell_type": "markdown",
   "metadata": {
    "colab_type": "text",
    "id": "poLl5awBOzZA"
   },
   "source": [
    "Array Attributes"
   ]
  },
  {
   "cell_type": "code",
   "execution_count": 6,
   "metadata": {
    "colab": {
     "base_uri": "https://localhost:8080/",
     "height": 54
    },
    "colab_type": "code",
    "id": "t6hogmVIO2Y7",
    "outputId": "99a57dca-e519-474c-bb6c-788fde3c9a2f"
   },
   "outputs": [
    {
     "name": "stdout",
     "output_type": "stream",
     "text": [
      "(5,)\n",
      "int32\n"
     ]
    }
   ],
   "source": [
    "#Shape\n",
    "print (n.shape)\n",
    "#Data Type\n",
    "print(n.dtype)"
   ]
  },
  {
   "cell_type": "markdown",
   "metadata": {
    "colab_type": "text",
    "id": "FR4vCwPlPd3s"
   },
   "source": [
    "Multi-dimensional Arrays"
   ]
  },
  {
   "cell_type": "code",
   "execution_count": 7,
   "metadata": {
    "colab": {
     "base_uri": "https://localhost:8080/",
     "height": 90
    },
    "colab_type": "code",
    "id": "xWppnOQ6PJ9A",
    "outputId": "14c8bf6c-0656-41d6-b6f3-2e3aed335314"
   },
   "outputs": [
    {
     "name": "stdout",
     "output_type": "stream",
     "text": [
      "[[1 2 3]\n",
      " [4 5 6]]\n"
     ]
    }
   ],
   "source": [
    "#Two-Dimensional\n",
    "n2 = np.array([[1, 2, 3], [4, 5, 6]])\n",
    "\n",
    "print(n2)"
   ]
  },
  {
   "cell_type": "code",
   "execution_count": 8,
   "metadata": {
    "colab": {
     "base_uri": "https://localhost:8080/",
     "height": 126
    },
    "colab_type": "code",
    "id": "j1b62d2sPw5Z",
    "outputId": "20efdeb5-22ee-482c-9cdc-ddfe42e0f628"
   },
   "outputs": [
    {
     "name": "stdout",
     "output_type": "stream",
     "text": [
      "[[[ 1  2  3]\n",
      "  [ 4  5  6]]\n",
      "\n",
      " [[ 7  8  9]\n",
      "  [10 11 12]]]\n"
     ]
    }
   ],
   "source": [
    "#Three-Dimensional\n",
    "n3 = np.array([[[1, 2, 3], [4, 5, 6]], [[7, 8, 9], [10, 11, 12]]])\n",
    "\n",
    "print(n3)"
   ]
  },
  {
   "cell_type": "markdown",
   "metadata": {
    "colab_type": "text",
    "id": "LZUsEpY5Q2U6"
   },
   "source": [
    "# Ones and Zeros"
   ]
  },
  {
   "cell_type": "code",
   "execution_count": 10,
   "metadata": {
    "colab": {
     "base_uri": "https://localhost:8080/",
     "height": 108
    },
    "colab_type": "code",
    "id": "cK4Mk7o2QWEu",
    "outputId": "29e752cb-8426-4b27-a0bc-9d35442a0930"
   },
   "outputs": [
    {
     "name": "stdout",
     "output_type": "stream",
     "text": [
      "[[0. 0. 0.]\n",
      " [0. 0. 0.]\n",
      " [0. 0. 0.]]\n",
      "float64\n"
     ]
    }
   ],
   "source": [
    "#Initializing Zeros\n",
    "n_0 = np.zeros((3, 3))\n",
    "\n",
    "print(n_0)\n",
    "print(n_0.dtype)"
   ]
  },
  {
   "cell_type": "code",
   "execution_count": 14,
   "metadata": {
    "colab": {
     "base_uri": "https://localhost:8080/",
     "height": 54
    },
    "colab_type": "code",
    "id": "bpZh6icmR7aW",
    "outputId": "036744f3-34d1-472a-9f01-b9a8512d2a32"
   },
   "outputs": [
    {
     "name": "stdout",
     "output_type": "stream",
     "text": [
      "[[0 0 0]\n",
      " [0 0 0]\n",
      " [0 0 0]]\n",
      "int32\n"
     ]
    }
   ],
   "source": [
    "#Initializing Zeros with Dtype\n",
    "n_0 = np.zeros((3, 3), dtype=int)\n",
    "\n",
    "print(n_0)\n",
    "print(n_0.dtype)"
   ]
  },
  {
   "cell_type": "code",
   "execution_count": 16,
   "metadata": {
    "colab": {
     "base_uri": "https://localhost:8080/",
     "height": 108
    },
    "colab_type": "code",
    "id": "TOHQV1cDSED9",
    "outputId": "7aff2a41-cb8b-4305-d5eb-924c872c768b"
   },
   "outputs": [
    {
     "name": "stdout",
     "output_type": "stream",
     "text": [
      "[[1 1 1]\n",
      " [1 1 1]\n",
      " [1 1 1]]\n"
     ]
    }
   ],
   "source": [
    "#Initializing Ones with Dtype\n",
    "n_1 = np.ones((3, 3), dtype=int)\n",
    "print(n_1)"
   ]
  },
  {
   "cell_type": "markdown",
   "metadata": {
    "colab_type": "text",
    "id": "leP0ds1JSZaF"
   },
   "source": [
    "# Reshaping"
   ]
  },
  {
   "cell_type": "code",
   "execution_count": 18,
   "metadata": {
    "colab": {
     "base_uri": "https://localhost:8080/",
     "height": 72
    },
    "colab_type": "code",
    "id": "lasXBlS8SYYG",
    "outputId": "80496a8d-2407-481f-c197-46a29d9ad531"
   },
   "outputs": [
    {
     "name": "stdout",
     "output_type": "stream",
     "text": [
      "[[1 2 3]\n",
      " [4 5 6]]\n",
      "(2, 3)\n"
     ]
    }
   ],
   "source": [
    "#Simple 2D Array (before Reshape)\n",
    "n = np.array([[1, 2, 3], [4, 5, 6]])\n",
    "print(n)\n",
    "print(n.shape)"
   ]
  },
  {
   "cell_type": "code",
   "execution_count": 19,
   "metadata": {
    "colab": {
     "base_uri": "https://localhost:8080/",
     "height": 90
    },
    "colab_type": "code",
    "id": "fF8PuqwqTPCG",
    "outputId": "a080bb43-03e4-4604-d2eb-e05cb1534d3f"
   },
   "outputs": [
    {
     "name": "stdout",
     "output_type": "stream",
     "text": [
      "[[1 2]\n",
      " [3 4]\n",
      " [5 6]]\n"
     ]
    }
   ],
   "source": [
    "#Reshape\n",
    "print(n.reshape(3, 2))"
   ]
  },
  {
   "cell_type": "code",
   "execution_count": 20,
   "metadata": {
    "colab": {
     "base_uri": "https://localhost:8080/",
     "height": 35
    },
    "colab_type": "code",
    "id": "MkmEftGiTeRx",
    "outputId": "a324e789-deed-4204-cce6-d7e3df57483a"
   },
   "outputs": [
    {
     "name": "stdout",
     "output_type": "stream",
     "text": [
      "[1 2 3 4 5 6]\n"
     ]
    }
   ],
   "source": [
    "#Flatten\n",
    "print(n.flatten())"
   ]
  },
  {
   "cell_type": "markdown",
   "metadata": {
    "colab_type": "text",
    "id": "sPdK0WkwTx2f"
   },
   "source": [
    "# Horizontal and Vertical Stacking"
   ]
  },
  {
   "cell_type": "code",
   "execution_count": 21,
   "metadata": {
    "colab": {},
    "colab_type": "code",
    "id": "2kg8KZdQTj7F"
   },
   "outputs": [],
   "source": [
    "#Initialzing two simple 1D arrays\n",
    "f = np.array([1, 2, 3])\n",
    "s = np.array([4, 5, 6])"
   ]
  },
  {
   "cell_type": "code",
   "execution_count": 25,
   "metadata": {
    "colab": {
     "base_uri": "https://localhost:8080/",
     "height": 35
    },
    "colab_type": "code",
    "id": "3MPu1AsoeuYl",
    "outputId": "5dca0b0a-ca5d-4db8-9a16-53c446bc254d"
   },
   "outputs": [
    {
     "name": "stdout",
     "output_type": "stream",
     "text": [
      "[1 2 3 4 5 6]\n"
     ]
    }
   ],
   "source": [
    "# Horitzontal Stack\n",
    "print(np.hstack([f, s]))"
   ]
  },
  {
   "cell_type": "code",
   "execution_count": 27,
   "metadata": {
    "colab": {
     "base_uri": "https://localhost:8080/",
     "height": 54
    },
    "colab_type": "code",
    "id": "Egk5PL9jed1J",
    "outputId": "0ec21da1-b590-4a33-cbe4-94e812ce7f9d"
   },
   "outputs": [
    {
     "name": "stdout",
     "output_type": "stream",
     "text": [
      "[[1 2 3]\n",
      " [4 5 6]]\n"
     ]
    }
   ],
   "source": [
    "# Vertical Stack\n",
    "print(np.vstack([f, s]))"
   ]
  },
  {
   "cell_type": "markdown",
   "metadata": {
    "colab_type": "text",
    "id": "zXeqq-rZfTED"
   },
   "source": [
    "# Generating Data"
   ]
  },
  {
   "cell_type": "markdown",
   "metadata": {
    "colab_type": "text",
    "id": "tHg499_qgsZ2"
   },
   "source": [
    "Arange"
   ]
  },
  {
   "cell_type": "code",
   "execution_count": 31,
   "metadata": {
    "colab": {
     "base_uri": "https://localhost:8080/",
     "height": 54
    },
    "colab_type": "code",
    "id": "UdHwDb2vexnG",
    "outputId": "8fb9ff9e-4311-41e0-b5e0-30a19cf20a0b"
   },
   "outputs": [
    {
     "name": "stdout",
     "output_type": "stream",
     "text": [
      "[1 3 5 7 9]\n"
     ]
    }
   ],
   "source": [
    "#Range: 1 to 10\n",
    "lst = np.arange(1, 10)\n",
    "\n",
    "\n",
    "#Range: 1 to 10 with Spacing = 2\n",
    "lst = np.arange(1, 10, 2)\n",
    "print(lst)"
   ]
  },
  {
   "cell_type": "markdown",
   "metadata": {
    "colab_type": "text",
    "id": "dIaWmzregu0A"
   },
   "source": [
    "Linspace"
   ]
  },
  {
   "cell_type": "code",
   "execution_count": 34,
   "metadata": {
    "colab": {
     "base_uri": "https://localhost:8080/",
     "height": 35
    },
    "colab_type": "code",
    "id": "raBqIvU6gLKn",
    "outputId": "bc95482a-43fa-41e9-b51d-00b2ee9ffb45"
   },
   "outputs": [
    {
     "name": "stdout",
     "output_type": "stream",
     "text": [
      "[ 1.          1.47368421  1.94736842  2.42105263  2.89473684  3.36842105\n",
      "  3.84210526  4.31578947  4.78947368  5.26315789  5.73684211  6.21052632\n",
      "  6.68421053  7.15789474  7.63157895  8.10526316  8.57894737  9.05263158\n",
      "  9.52631579 10.        ]\n"
     ]
    }
   ],
   "source": [
    "#Array with 5 elements in range = 1 to 10\n",
    "arr = np.linspace(1, 10, 20)\n",
    "print(arr)"
   ]
  },
  {
   "cell_type": "markdown",
   "metadata": {
    "colab_type": "text",
    "id": "9t-yr9QFh1Do"
   },
   "source": [
    "Logspace"
   ]
  },
  {
   "cell_type": "code",
   "execution_count": 36,
   "metadata": {
    "colab": {
     "base_uri": "https://localhost:8080/",
     "height": 54
    },
    "colab_type": "code",
    "id": "vzGciv_2g7Y-",
    "outputId": "055eec91-439a-4da9-dd71-b4c99e4fc3d2"
   },
   "outputs": [
    {
     "name": "stdout",
     "output_type": "stream",
     "text": [
      "[1.00000000e+01 1.77827941e+03 3.16227766e+05 5.62341325e+07\n",
      " 1.00000000e+10]\n"
     ]
    }
   ],
   "source": [
    "#Array with 5 elements in range = 1 to 10 (logarithmically)\n",
    "arr = np.logspace(1, 10, 5)\n",
    "print(arr)"
   ]
  },
  {
   "cell_type": "markdown",
   "metadata": {
    "colab_type": "text",
    "id": "b2N7nH4UiDq_"
   },
   "source": [
    "Random Numbers"
   ]
  },
  {
   "cell_type": "code",
   "execution_count": 37,
   "metadata": {
    "colab": {
     "base_uri": "https://localhost:8080/",
     "height": 54
    },
    "colab_type": "code",
    "id": "HH7vn2dQhJln",
    "outputId": "aeae24eb-5faa-47ba-a52d-9e790650ace7"
   },
   "outputs": [
    {
     "name": "stdout",
     "output_type": "stream",
     "text": [
      "[4.7612913  5.02225653 4.92637033 4.78177087 4.49036202 5.1733152\n",
      " 4.8962427  4.25253555 5.25404564 5.1482041 ]\n"
     ]
    }
   ],
   "source": [
    "#Random Numbers distributed Normally\n",
    "arr = np.random.normal(5, 0.5, 10)\n",
    "\n",
    "print(arr)"
   ]
  },
  {
   "cell_type": "markdown",
   "metadata": {
    "colab_type": "text",
    "id": "ACKF6h9N72H6"
   },
   "source": [
    "![alt text](https://upload.wikimedia.org/wikipedia/commons/thumb/a/a9/Empirical_Rule.PNG/350px-Empirical_Rule.PNG)"
   ]
  },
  {
   "cell_type": "markdown",
   "metadata": {
    "colab_type": "text",
    "id": "NM4zqfwyirSZ"
   },
   "source": [
    "# Indexing"
   ]
  },
  {
   "cell_type": "code",
   "execution_count": 47,
   "metadata": {
    "colab": {
     "base_uri": "https://localhost:8080/",
     "height": 90
    },
    "colab_type": "code",
    "id": "8RSHEgEqiWRX",
    "outputId": "1b6fb2eb-e13f-4f0b-84ed-3069b9cb0d39"
   },
   "outputs": [
    {
     "name": "stdout",
     "output_type": "stream",
     "text": [
      "2\n",
      "[3 4 5]\n",
      "[1 2 3 4 5]\n",
      "[6 7 8 9]\n"
     ]
    }
   ],
   "source": [
    "#Simple 1D array\n",
    "n = np.array([1, 2, 3, 4, 5, 6, 7, 8, 9])\n",
    "\n",
    "#Accessing Index\n",
    "print(n[1])\n",
    "\n",
    "#Slicing 2 to 5\n",
    "print(n[2:5])\n",
    "\n",
    "#Slicing 0 to 5\n",
    "print(n[:5])\n",
    "\n",
    "#Slicing 5 to End\n",
    "print(n[5:])"
   ]
  },
  {
   "cell_type": "code",
   "execution_count": 49,
   "metadata": {
    "colab": {
     "base_uri": "https://localhost:8080/",
     "height": 90
    },
    "colab_type": "code",
    "id": "gxCAjl3xjevE",
    "outputId": "4b4596e3-fc5f-4316-cf9f-3c6df927f483"
   },
   "outputs": [
    {
     "name": "stdout",
     "output_type": "stream",
     "text": [
      "[[1 2 3]\n",
      " [4 5 6]\n",
      " [7 8 9]]\n",
      "[4 5 6]\n",
      "[5 6]\n"
     ]
    }
   ],
   "source": [
    "#Simple 2D array\n",
    "n2 = np.array([[1, 2, 3], [4, 5, 6], [7, 8, 9]])\n",
    "\n",
    "#2D Array\n",
    "print(n2)\n",
    "\n",
    "#2D Array Row by Index\n",
    "print(n2[1])\n",
    "\n",
    "#2D Array Row Sliced and Column by Index\n",
    "print(n2[1, 1:3])"
   ]
  },
  {
   "cell_type": "markdown",
   "metadata": {
    "colab_type": "text",
    "id": "OcV8PvVEmxwO"
   },
   "source": [
    "# Basic Statistical Functions"
   ]
  },
  {
   "cell_type": "code",
   "execution_count": 56,
   "metadata": {
    "colab": {
     "base_uri": "https://localhost:8080/",
     "height": 54
    },
    "colab_type": "code",
    "id": "MOBiWYG4j3Z4",
    "outputId": "5150a87b-5495-47d7-da69-3305c2d8c50f"
   },
   "outputs": [
    {
     "name": "stdout",
     "output_type": "stream",
     "text": [
      "[5.40354596 4.55206402 5.85463131 5.25079213 5.19910621 5.09042338\n",
      " 4.61911721 5.47810474 4.55897435 4.96369081]\n"
     ]
    }
   ],
   "source": [
    "#Initialize Random Normally Distributed numbers\n",
    "#mean = 5\n",
    "#standard deviation = 0.5\n",
    "#size = 10\n",
    "\n",
    "n = np.random.normal(5, 0.5, 10)\n",
    "print(n)"
   ]
  },
  {
   "cell_type": "code",
   "execution_count": 59,
   "metadata": {
    "colab": {
     "base_uri": "https://localhost:8080/",
     "height": 108
    },
    "colab_type": "code",
    "id": "xVYX3MVRnfDR",
    "outputId": "d8cedc2d-586b-49fa-c05d-5f44acf1c680"
   },
   "outputs": [
    {
     "name": "stdout",
     "output_type": "stream",
     "text": [
      "4.5520640221596995\n",
      "5.854631307289621\n",
      "5.097045011273401\n",
      "5.144764796109758\n",
      "0.4098667461036075\n"
     ]
    }
   ],
   "source": [
    "### Min \n",
    "print(np.min(n))\n",
    "\n",
    "### Max \n",
    "print(np.max(n))\n",
    "\n",
    "### Mean \n",
    "print(np.mean(n))\n",
    "\n",
    "### Median\n",
    "print(np.median(n))\n",
    "\n",
    "### Standard Deviation\n",
    "print(np.std(n))"
   ]
  },
  {
   "cell_type": "markdown",
   "metadata": {
    "colab_type": "text",
    "id": "snw94UtzoAc5"
   },
   "source": [
    "# Product of Arrays"
   ]
  },
  {
   "cell_type": "code",
   "execution_count": 61,
   "metadata": {
    "colab": {},
    "colab_type": "code",
    "id": "bUSyEc-Gn6ie"
   },
   "outputs": [],
   "source": [
    "#Two simple 1D arrays\n",
    "first = np.array([1, 2])\n",
    "second = np.array([4, 5])"
   ]
  },
  {
   "cell_type": "code",
   "execution_count": 62,
   "metadata": {
    "colab": {
     "base_uri": "https://localhost:8080/",
     "height": 35
    },
    "colab_type": "code",
    "id": "7MMD_LvqoWXY",
    "outputId": "33b6bb23-5c4c-49da-8f50-d5b4f1630ec2"
   },
   "outputs": [
    {
     "name": "stdout",
     "output_type": "stream",
     "text": [
      "[ 4 10]\n"
     ]
    }
   ],
   "source": [
    "# Element-by-Element\n",
    "print(first * second)"
   ]
  },
  {
   "cell_type": "code",
   "execution_count": 63,
   "metadata": {
    "colab": {
     "base_uri": "https://localhost:8080/",
     "height": 35
    },
    "colab_type": "code",
    "id": "j9p7fg32oYsN",
    "outputId": "84391206-cbfc-4ed3-cd92-3859398a0dd7"
   },
   "outputs": [
    {
     "name": "stdout",
     "output_type": "stream",
     "text": [
      "14\n"
     ]
    }
   ],
   "source": [
    "# Dot Product\n",
    "print(np.dot(first, second))"
   ]
  },
  {
   "cell_type": "code",
   "execution_count": 64,
   "metadata": {
    "colab": {
     "base_uri": "https://localhost:8080/",
     "height": 54
    },
    "colab_type": "code",
    "id": "C72FIyz6o1zK",
    "outputId": "7fd83505-7452-4fd8-e8ea-0cb38d23f489"
   },
   "outputs": [
    {
     "name": "stdout",
     "output_type": "stream",
     "text": [
      "[[19 22]\n",
      " [43 50]]\n"
     ]
    }
   ],
   "source": [
    "#Two simple Matrices\n",
    "first = [[1,2],[3,4]] \n",
    "second = [[5,6],[7,8]] \n",
    "\n",
    "# Matrix Multiplication\n",
    "print(np.matmul(first, second))"
   ]
  },
  {
   "cell_type": "markdown",
   "metadata": {
    "colab_type": "text",
    "id": "eJBXGZqIqVN2"
   },
   "source": [
    "# Determinant"
   ]
  },
  {
   "cell_type": "code",
   "execution_count": 65,
   "metadata": {
    "colab": {
     "base_uri": "https://localhost:8080/",
     "height": 35
    },
    "colab_type": "code",
    "id": "UE5ve7qVqTwe",
    "outputId": "bb3f7c3d-b57d-4ecf-a015-2c6ed08443d1"
   },
   "outputs": [
    {
     "name": "stdout",
     "output_type": "stream",
     "text": [
      "-2.0000000000000004\n"
     ]
    }
   ],
   "source": [
    "#linalg Determinant\n",
    "print(np.linalg.det(first))"
   ]
  },
  {
   "cell_type": "markdown",
   "metadata": {
    "colab_type": "text",
    "id": "4tCLGLgBzbJX"
   },
   "source": [
    "# Futher Numpy Documentation"
   ]
  },
  {
   "cell_type": "markdown",
   "metadata": {
    "colab_type": "text",
    "id": "_8qLpHjJzjOd"
   },
   "source": [
    "https://numpy.org/"
   ]
  }
 ],
 "metadata": {
  "colab": {
   "collapsed_sections": [],
   "name": "numpy_hands-on.ipynb",
   "provenance": []
  },
  "kernelspec": {
   "display_name": "Python 3",
   "language": "python",
   "name": "python3"
  },
  "language_info": {
   "codemirror_mode": {
    "name": "ipython",
    "version": 3
   },
   "file_extension": ".py",
   "mimetype": "text/x-python",
   "name": "python",
   "nbconvert_exporter": "python",
   "pygments_lexer": "ipython3",
   "version": "3.7.1"
  }
 },
 "nbformat": 4,
 "nbformat_minor": 4
}
