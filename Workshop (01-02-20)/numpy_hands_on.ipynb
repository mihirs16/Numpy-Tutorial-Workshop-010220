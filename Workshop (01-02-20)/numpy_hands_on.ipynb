{
 "cells": [
  {
   "cell_type": "markdown",
   "metadata": {
    "colab_type": "text",
    "id": "CsJXTWqO6_MG"
   },
   "source": [
    "![Numpy Logo](https://upload.wikimedia.org/wikipedia/commons/thumb/1/1a/NumPy_logo.svg/1200px-NumPy_logo.svg.png)"
   ]
  },
  {
   "cell_type": "markdown",
   "metadata": {
    "colab_type": "text",
    "id": "sMM49AjrzUqP"
   },
   "source": [
    "#Why Numpy?\n",
    "https://webcourses.ucf.edu/courses/1249560/pages/python-lists-vs-numpy-arrays-what-is-the-difference?source=post_page-----f1b582a413f1----------------------"
   ]
  },
  {
   "cell_type": "markdown",
   "metadata": {
    "colab_type": "text",
    "id": "QEGhjhQvKKkl"
   },
   "source": [
    "# Installing Numpy"
   ]
  },
  {
   "cell_type": "code",
   "execution_count": null,
   "metadata": {
    "colab": {
     "base_uri": "https://localhost:8080/",
     "height": 35
    },
    "colab_type": "code",
    "id": "DCndoV-4JyPg",
    "outputId": "c3b12f7f-d977-444a-9028-6f6c8794c198"
   },
   "outputs": [
    {
     "name": "stdout",
     "output_type": "stream",
     "text": [
      "Requirement already satisfied: numpy in /usr/local/lib/python3.6/dist-packages (1.17.5)\n"
     ]
    }
   ],
   "source": [
    "#pip"
   ]
  },
  {
   "cell_type": "code",
   "execution_count": null,
   "metadata": {
    "colab": {
     "base_uri": "https://localhost:8080/",
     "height": 54
    },
    "colab_type": "code",
    "id": "Ud-4prHPKZPB",
    "outputId": "8af4a552-0b19-4e4c-b306-617667a0c7bf"
   },
   "outputs": [
    {
     "name": "stdout",
     "output_type": "stream",
     "text": [
      "1.17.5\n",
      "3.1.2\n"
     ]
    }
   ],
   "source": [
    "#importing numpy"
   ]
  },
  {
   "cell_type": "markdown",
   "metadata": {
    "colab_type": "text",
    "id": "C7gA8pv8LJTj"
   },
   "source": [
    "# Numpy Arrays"
   ]
  },
  {
   "cell_type": "markdown",
   "metadata": {
    "colab_type": "text",
    "id": "nUKMLMQUNRzX"
   },
   "source": [
    "Array Initialization"
   ]
  },
  {
   "cell_type": "code",
   "execution_count": null,
   "metadata": {
    "colab": {
     "base_uri": "https://localhost:8080/",
     "height": 35
    },
    "colab_type": "code",
    "id": "t7daDvhsKvpx",
    "outputId": "215650d6-ea50-4e8f-b2ae-ee559a2d27d3"
   },
   "outputs": [
    {
     "name": "stdout",
     "output_type": "stream",
     "text": [
      "[1 6 0 9 2]\n"
     ]
    }
   ],
   "source": [
    "#List - [1, 6, 0, 9, 2]"
   ]
  },
  {
   "cell_type": "markdown",
   "metadata": {
    "colab_type": "text",
    "id": "4Pff317INzA5"
   },
   "source": [
    "Arithmetical Operations"
   ]
  },
  {
   "cell_type": "code",
   "execution_count": null,
   "metadata": {
    "colab": {
     "base_uri": "https://localhost:8080/",
     "height": 90
    },
    "colab_type": "code",
    "id": "3jb_E-doNyQU",
    "outputId": "b79653b7-3cc0-4c92-c436-2617a8721d2e"
   },
   "outputs": [
    {
     "name": "stdout",
     "output_type": "stream",
     "text": [
      "[11 16 10 19 12]\n",
      "[10 60  0 90 20]\n",
      "[ -9  -4 -10  -1  -8]\n",
      "[0.1 0.6 0.  0.9 0.2]\n"
     ]
    }
   ],
   "source": [
    "#Addition\n",
    "\n",
    "\n",
    "#Multiplication\n",
    "\n",
    "\n",
    "#Subtraction\n",
    "\n",
    "\n",
    "#Division\n"
   ]
  },
  {
   "cell_type": "markdown",
   "metadata": {
    "colab_type": "text",
    "id": "poLl5awBOzZA"
   },
   "source": [
    "Array Attributes"
   ]
  },
  {
   "cell_type": "code",
   "execution_count": null,
   "metadata": {
    "colab": {
     "base_uri": "https://localhost:8080/",
     "height": 54
    },
    "colab_type": "code",
    "id": "t6hogmVIO2Y7",
    "outputId": "99a57dca-e519-474c-bb6c-788fde3c9a2f"
   },
   "outputs": [
    {
     "name": "stdout",
     "output_type": "stream",
     "text": [
      "(5,)\n",
      "int64\n"
     ]
    }
   ],
   "source": [
    "#Shape\n",
    "\n",
    "\n",
    "#Data Type\n"
   ]
  },
  {
   "cell_type": "markdown",
   "metadata": {
    "colab_type": "text",
    "id": "FR4vCwPlPd3s"
   },
   "source": [
    "Multi-dimensional Arrays"
   ]
  },
  {
   "cell_type": "code",
   "execution_count": null,
   "metadata": {
    "colab": {
     "base_uri": "https://localhost:8080/",
     "height": 90
    },
    "colab_type": "code",
    "id": "xWppnOQ6PJ9A",
    "outputId": "14c8bf6c-0656-41d6-b6f3-2e3aed335314"
   },
   "outputs": [
    {
     "name": "stdout",
     "output_type": "stream",
     "text": [
      "[[1 2 3]\n",
      " [4 5 6]\n",
      " [7 8 9]]\n",
      "(3, 3)\n"
     ]
    }
   ],
   "source": [
    "#Two-Dimensional\n"
   ]
  },
  {
   "cell_type": "code",
   "execution_count": null,
   "metadata": {
    "colab": {
     "base_uri": "https://localhost:8080/",
     "height": 126
    },
    "colab_type": "code",
    "id": "j1b62d2sPw5Z",
    "outputId": "20efdeb5-22ee-482c-9cdc-ddfe42e0f628"
   },
   "outputs": [
    {
     "name": "stdout",
     "output_type": "stream",
     "text": [
      "[[[ 1  2  3]\n",
      "  [ 4  5  6]]\n",
      "\n",
      " [[ 7  8  9]\n",
      "  [10 11 12]]]\n",
      "(2, 2, 3)\n"
     ]
    }
   ],
   "source": [
    "#Three-Dimensional\n"
   ]
  },
  {
   "cell_type": "markdown",
   "metadata": {
    "colab_type": "text",
    "id": "LZUsEpY5Q2U6"
   },
   "source": [
    "# Ones and Zeros"
   ]
  },
  {
   "cell_type": "code",
   "execution_count": null,
   "metadata": {
    "colab": {
     "base_uri": "https://localhost:8080/",
     "height": 108
    },
    "colab_type": "code",
    "id": "cK4Mk7o2QWEu",
    "outputId": "29e752cb-8426-4b27-a0bc-9d35442a0930"
   },
   "outputs": [
    {
     "name": "stdout",
     "output_type": "stream",
     "text": [
      "[[0. 0. 0.]\n",
      " [0. 0. 0.]\n",
      " [0. 0. 0.]]\n",
      "(3, 3)\n",
      "float64\n"
     ]
    }
   ],
   "source": [
    "#Initializing Zeros\n"
   ]
  },
  {
   "cell_type": "code",
   "execution_count": null,
   "metadata": {
    "colab": {
     "base_uri": "https://localhost:8080/",
     "height": 54
    },
    "colab_type": "code",
    "id": "bpZh6icmR7aW",
    "outputId": "036744f3-34d1-472a-9f01-b9a8512d2a32"
   },
   "outputs": [
    {
     "name": "stdout",
     "output_type": "stream",
     "text": [
      "(3, 3)\n",
      "int64\n"
     ]
    }
   ],
   "source": [
    "#Initializing Zeros with Dtype"
   ]
  },
  {
   "cell_type": "code",
   "execution_count": null,
   "metadata": {
    "colab": {
     "base_uri": "https://localhost:8080/",
     "height": 108
    },
    "colab_type": "code",
    "id": "TOHQV1cDSED9",
    "outputId": "7aff2a41-cb8b-4305-d5eb-924c872c768b"
   },
   "outputs": [
    {
     "name": "stdout",
     "output_type": "stream",
     "text": [
      "[[1 1 1]\n",
      " [1 1 1]\n",
      " [1 1 1]]\n",
      "(3, 3)\n",
      "int64\n"
     ]
    }
   ],
   "source": [
    "#Initializing Ones with Dtype\n"
   ]
  },
  {
   "cell_type": "markdown",
   "metadata": {
    "colab_type": "text",
    "id": "leP0ds1JSZaF"
   },
   "source": [
    "# Reshaping"
   ]
  },
  {
   "cell_type": "code",
   "execution_count": null,
   "metadata": {
    "colab": {
     "base_uri": "https://localhost:8080/",
     "height": 72
    },
    "colab_type": "code",
    "id": "lasXBlS8SYYG",
    "outputId": "80496a8d-2407-481f-c197-46a29d9ad531"
   },
   "outputs": [
    {
     "name": "stdout",
     "output_type": "stream",
     "text": [
      "[[1 2 3]\n",
      " [4 5 6]]\n",
      "(2, 3)\n"
     ]
    }
   ],
   "source": [
    "#Simple 2D Array (before Reshape)"
   ]
  },
  {
   "cell_type": "code",
   "execution_count": null,
   "metadata": {
    "colab": {
     "base_uri": "https://localhost:8080/",
     "height": 90
    },
    "colab_type": "code",
    "id": "fF8PuqwqTPCG",
    "outputId": "a080bb43-03e4-4604-d2eb-e05cb1534d3f"
   },
   "outputs": [
    {
     "name": "stdout",
     "output_type": "stream",
     "text": [
      "[[1 2]\n",
      " [3 4]\n",
      " [5 6]]\n",
      "(3, 2)\n"
     ]
    }
   ],
   "source": [
    "#Reshape\n"
   ]
  },
  {
   "cell_type": "code",
   "execution_count": null,
   "metadata": {
    "colab": {
     "base_uri": "https://localhost:8080/",
     "height": 35
    },
    "colab_type": "code",
    "id": "MkmEftGiTeRx",
    "outputId": "a324e789-deed-4204-cce6-d7e3df57483a"
   },
   "outputs": [
    {
     "name": "stdout",
     "output_type": "stream",
     "text": [
      "[ 0  1  2  3  4  5  6  7  8  9 10]\n"
     ]
    }
   ],
   "source": [
    "#Flatten\n"
   ]
  },
  {
   "cell_type": "markdown",
   "metadata": {
    "colab_type": "text",
    "id": "sPdK0WkwTx2f"
   },
   "source": [
    "# Horizontal and Vertical Stacking"
   ]
  },
  {
   "cell_type": "code",
   "execution_count": null,
   "metadata": {
    "colab": {},
    "colab_type": "code",
    "id": "2kg8KZdQTj7F"
   },
   "outputs": [],
   "source": [
    "#Initialzing two simple 1D arrays\n"
   ]
  },
  {
   "cell_type": "code",
   "execution_count": null,
   "metadata": {
    "colab": {
     "base_uri": "https://localhost:8080/",
     "height": 35
    },
    "colab_type": "code",
    "id": "3MPu1AsoeuYl",
    "outputId": "5dca0b0a-ca5d-4db8-9a16-53c446bc254d"
   },
   "outputs": [
    {
     "name": "stdout",
     "output_type": "stream",
     "text": [
      "[1 2 3 4 5 6]\n"
     ]
    }
   ],
   "source": [
    "# Horitzontal Stack\n"
   ]
  },
  {
   "cell_type": "code",
   "execution_count": null,
   "metadata": {
    "colab": {
     "base_uri": "https://localhost:8080/",
     "height": 54
    },
    "colab_type": "code",
    "id": "Egk5PL9jed1J",
    "outputId": "0ec21da1-b590-4a33-cbe4-94e812ce7f9d"
   },
   "outputs": [
    {
     "name": "stdout",
     "output_type": "stream",
     "text": [
      "[[1 2 3]\n",
      " [4 5 6]]\n"
     ]
    }
   ],
   "source": [
    "# Vertical Stack\n"
   ]
  },
  {
   "cell_type": "markdown",
   "metadata": {
    "colab_type": "text",
    "id": "zXeqq-rZfTED"
   },
   "source": [
    "# Generating Data"
   ]
  },
  {
   "cell_type": "markdown",
   "metadata": {
    "colab_type": "text",
    "id": "tHg499_qgsZ2"
   },
   "source": [
    "Arange"
   ]
  },
  {
   "cell_type": "code",
   "execution_count": null,
   "metadata": {
    "colab": {
     "base_uri": "https://localhost:8080/",
     "height": 54
    },
    "colab_type": "code",
    "id": "UdHwDb2vexnG",
    "outputId": "8fb9ff9e-4311-41e0-b5e0-30a19cf20a0b"
   },
   "outputs": [
    {
     "name": "stdout",
     "output_type": "stream",
     "text": [
      "[1 2 3 4 5 6 7 8 9]\n",
      "[1 3 5 7 9]\n"
     ]
    }
   ],
   "source": [
    "#Range: 1 to 10\n",
    "\n",
    "\n",
    "#Range: 1 to 10 with Spacing = 2\n"
   ]
  },
  {
   "cell_type": "markdown",
   "metadata": {
    "colab_type": "text",
    "id": "dIaWmzregu0A"
   },
   "source": [
    "Linspace"
   ]
  },
  {
   "cell_type": "code",
   "execution_count": null,
   "metadata": {
    "colab": {
     "base_uri": "https://localhost:8080/",
     "height": 35
    },
    "colab_type": "code",
    "id": "raBqIvU6gLKn",
    "outputId": "bc95482a-43fa-41e9-b51d-00b2ee9ffb45"
   },
   "outputs": [
    {
     "name": "stdout",
     "output_type": "stream",
     "text": [
      "[ 1.    3.25  5.5   7.75 10.  ]\n"
     ]
    }
   ],
   "source": [
    "#Array with 5 elements in range = 1 to 10\n"
   ]
  },
  {
   "cell_type": "markdown",
   "metadata": {
    "colab_type": "text",
    "id": "9t-yr9QFh1Do"
   },
   "source": [
    "Logspace"
   ]
  },
  {
   "cell_type": "code",
   "execution_count": null,
   "metadata": {
    "colab": {
     "base_uri": "https://localhost:8080/",
     "height": 54
    },
    "colab_type": "code",
    "id": "vzGciv_2g7Y-",
    "outputId": "055eec91-439a-4da9-dd71-b4c99e4fc3d2"
   },
   "outputs": [
    {
     "name": "stdout",
     "output_type": "stream",
     "text": [
      "[1.00000000e+01 1.77827941e+03 3.16227766e+05 5.62341325e+07\n",
      " 1.00000000e+10]\n"
     ]
    }
   ],
   "source": [
    "#Array with 5 elements in range = 1 to 10 (logarithmically)\n"
   ]
  },
  {
   "cell_type": "markdown",
   "metadata": {
    "colab_type": "text",
    "id": "b2N7nH4UiDq_"
   },
   "source": [
    "Random Numbers"
   ]
  },
  {
   "cell_type": "code",
   "execution_count": null,
   "metadata": {
    "colab": {
     "base_uri": "https://localhost:8080/",
     "height": 54
    },
    "colab_type": "code",
    "id": "HH7vn2dQhJln",
    "outputId": "aeae24eb-5faa-47ba-a52d-9e790650ace7"
   },
   "outputs": [
    {
     "name": "stdout",
     "output_type": "stream",
     "text": [
      "[5.19783947 5.19810312 4.89174423 5.27046979 4.85923082 4.82354455\n",
      " 4.9952682  5.24390606 5.72429108 4.2670679 ]\n"
     ]
    }
   ],
   "source": [
    "#Random Numbers distributed Normally\n"
   ]
  },
  {
   "cell_type": "markdown",
   "metadata": {
    "colab_type": "text",
    "id": "ACKF6h9N72H6"
   },
   "source": [
    "![alt text](https://upload.wikimedia.org/wikipedia/commons/thumb/a/a9/Empirical_Rule.PNG/350px-Empirical_Rule.PNG)"
   ]
  },
  {
   "cell_type": "markdown",
   "metadata": {
    "colab_type": "text",
    "id": "NM4zqfwyirSZ"
   },
   "source": [
    "# Indexing"
   ]
  },
  {
   "cell_type": "code",
   "execution_count": null,
   "metadata": {
    "colab": {
     "base_uri": "https://localhost:8080/",
     "height": 90
    },
    "colab_type": "code",
    "id": "8RSHEgEqiWRX",
    "outputId": "1b6fb2eb-e13f-4f0b-84ed-3069b9cb0d39"
   },
   "outputs": [
    {
     "name": "stdout",
     "output_type": "stream",
     "text": [
      "0\n",
      "[2 3 4]\n",
      "[0 1 2 3 4]\n",
      "[ 5  6  7  8  9 10]\n"
     ]
    }
   ],
   "source": [
    "#Simple 1D array\n",
    "\n",
    "\n",
    "#Accessing Index\n",
    "\n",
    "\n",
    "#Slicing 2 to 5\n",
    "\n",
    "\n",
    "#Slicing 0 to 5\n",
    "\n",
    "\n",
    "#Slicing 5 to End\n"
   ]
  },
  {
   "cell_type": "code",
   "execution_count": null,
   "metadata": {
    "colab": {
     "base_uri": "https://localhost:8080/",
     "height": 90
    },
    "colab_type": "code",
    "id": "gxCAjl3xjevE",
    "outputId": "4b4596e3-fc5f-4316-cf9f-3c6df927f483"
   },
   "outputs": [
    {
     "name": "stdout",
     "output_type": "stream",
     "text": [
      "[[0 1 2]\n",
      " [3 4 5]]\n",
      "[3 4 5]\n",
      "[1 4]\n"
     ]
    }
   ],
   "source": [
    "#Simple 2D array\n",
    "\n",
    "\n",
    "#2D Array\n",
    "\n",
    "\n",
    "#2D Array Row by Index\n",
    "\n",
    "\n",
    "#2D Array Row Sliced and Column by Index\n"
   ]
  },
  {
   "cell_type": "markdown",
   "metadata": {
    "colab_type": "text",
    "id": "OcV8PvVEmxwO"
   },
   "source": [
    "# Basic Statistical Functions"
   ]
  },
  {
   "cell_type": "code",
   "execution_count": null,
   "metadata": {
    "colab": {
     "base_uri": "https://localhost:8080/",
     "height": 54
    },
    "colab_type": "code",
    "id": "MOBiWYG4j3Z4",
    "outputId": "5150a87b-5495-47d7-da69-3305c2d8c50f"
   },
   "outputs": [
    {
     "name": "stdout",
     "output_type": "stream",
     "text": [
      "[5.39522081 4.24378144 5.09331284 5.10723983 5.68104555 4.74492819\n",
      " 5.06985298 4.29434351 5.2905326  5.06362356]\n"
     ]
    }
   ],
   "source": [
    "#Initialize Random Normally Distributed numbers\n",
    "#mean = 5\n",
    "#standard deviation = 0.5\n",
    "#size = 10"
   ]
  },
  {
   "cell_type": "code",
   "execution_count": null,
   "metadata": {
    "colab": {
     "base_uri": "https://localhost:8080/",
     "height": 108
    },
    "colab_type": "code",
    "id": "xVYX3MVRnfDR",
    "outputId": "d8cedc2d-586b-49fa-c05d-5f44acf1c680"
   },
   "outputs": [
    {
     "name": "stdout",
     "output_type": "stream",
     "text": [
      "4.2437814448148385\n",
      "5.681045545229229\n",
      "4.998388131625137\n",
      "5.081582909481604\n",
      "0.4322522423040592\n"
     ]
    }
   ],
   "source": [
    "### Min \n",
    "\n",
    "\n",
    "### Max \n",
    "\n",
    "\n",
    "### Mean \n",
    "\n",
    "\n",
    "### Median\n",
    "\n",
    "\n",
    "### Standard Deviation\n"
   ]
  },
  {
   "cell_type": "markdown",
   "metadata": {
    "colab_type": "text",
    "id": "snw94UtzoAc5"
   },
   "source": [
    "# Product of Arrays"
   ]
  },
  {
   "cell_type": "code",
   "execution_count": null,
   "metadata": {
    "colab": {},
    "colab_type": "code",
    "id": "bUSyEc-Gn6ie"
   },
   "outputs": [],
   "source": [
    "#Two simple 1D arrays\n",
    "first = np.array([1, 2])\n",
    "second = np.array([4, 5])"
   ]
  },
  {
   "cell_type": "code",
   "execution_count": null,
   "metadata": {
    "colab": {
     "base_uri": "https://localhost:8080/",
     "height": 35
    },
    "colab_type": "code",
    "id": "7MMD_LvqoWXY",
    "outputId": "33b6bb23-5c4c-49da-8f50-d5b4f1630ec2"
   },
   "outputs": [
    {
     "name": "stdout",
     "output_type": "stream",
     "text": [
      "[ 4 10]\n"
     ]
    }
   ],
   "source": [
    "# Element-by-Element\n"
   ]
  },
  {
   "cell_type": "code",
   "execution_count": null,
   "metadata": {
    "colab": {
     "base_uri": "https://localhost:8080/",
     "height": 35
    },
    "colab_type": "code",
    "id": "j9p7fg32oYsN",
    "outputId": "84391206-cbfc-4ed3-cd92-3859398a0dd7"
   },
   "outputs": [
    {
     "name": "stdout",
     "output_type": "stream",
     "text": [
      "14\n"
     ]
    }
   ],
   "source": [
    "# Dot Product\n"
   ]
  },
  {
   "cell_type": "code",
   "execution_count": null,
   "metadata": {
    "colab": {
     "base_uri": "https://localhost:8080/",
     "height": 54
    },
    "colab_type": "code",
    "id": "C72FIyz6o1zK",
    "outputId": "7fd83505-7452-4fd8-e8ea-0cb38d23f489"
   },
   "outputs": [
    {
     "name": "stdout",
     "output_type": "stream",
     "text": [
      "[[19 22]\n",
      " [43 50]]\n"
     ]
    }
   ],
   "source": [
    "#Two simple Matrices\n",
    "first = [[1,2],[3,4]] \n",
    "second = [[5,6],[7,8]] \n",
    "\n",
    "# Matrix Multiplication\n"
   ]
  },
  {
   "cell_type": "markdown",
   "metadata": {
    "colab_type": "text",
    "id": "eJBXGZqIqVN2"
   },
   "source": [
    "# Determinant"
   ]
  },
  {
   "cell_type": "code",
   "execution_count": null,
   "metadata": {
    "colab": {
     "base_uri": "https://localhost:8080/",
     "height": 35
    },
    "colab_type": "code",
    "id": "UE5ve7qVqTwe",
    "outputId": "bb3f7c3d-b57d-4ecf-a015-2c6ed08443d1"
   },
   "outputs": [
    {
     "name": "stdout",
     "output_type": "stream",
     "text": [
      "-2.000000000000005\n"
     ]
    }
   ],
   "source": [
    "#linalg Determinant\n"
   ]
  },
  {
   "cell_type": "markdown",
   "metadata": {
    "colab_type": "text",
    "id": "4tCLGLgBzbJX"
   },
   "source": [
    "#Futher Numpy Documentation"
   ]
  },
  {
   "cell_type": "markdown",
   "metadata": {
    "colab_type": "text",
    "id": "_8qLpHjJzjOd"
   },
   "source": [
    "https://numpy.org/"
   ]
  }
 ],
 "metadata": {
  "colab": {
   "collapsed_sections": [],
   "name": "numpy_hands-on.ipynb",
   "provenance": []
  },
  "kernelspec": {
   "display_name": "Python 3",
   "language": "python",
   "name": "python3"
  },
  "language_info": {
   "codemirror_mode": {
    "name": "ipython",
    "version": 3
   },
   "file_extension": ".py",
   "mimetype": "text/x-python",
   "name": "python",
   "nbconvert_exporter": "python",
   "pygments_lexer": "ipython3",
   "version": "3.7.1"
  }
 },
 "nbformat": 4,
 "nbformat_minor": 4
}
